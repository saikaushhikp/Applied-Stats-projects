{
  "cells": [
    {
      "cell_type": "markdown",
      "metadata": {
        "id": "vQj7d8tsvJ0F"
      },
      "source": [
        "<h1> <center> Computational Project-2 </center><h1>\n",
        "\n",
        "## Problem Statement\n",
        "1. Find real data such that the values are positive. Suppose you model the data using a $Gamma(a,b)$ distribution. What is the method of moments (MoM) and maximum likelihood estimates (MLE) for the two parameters $a$ and $b$?\n",
        "\n",
        "2. Now model the same data as a Normal distribution with an unknown mean and variance. Find the $95\\%$ confidence interval for the variance parameter.\n",
        "\n",
        "3. Collect real data for two relevant yet non-overlapping populations. If you model them as independent normal distributions with unknown means and variances, what will be the $95\\%$  confidence interval for the difference in the means of the two populations?\n",
        "\n",
        "4. Collect real data with binary response, which you can model as Bernoulli distributed data. Let p denote the probability of success defined here. Test for the $H_0: p \\le \\frac{1}{2} \\quad \\text{vs.} \\quad H_1: p > \\frac{1}{2}$. Comprehensively test the hypothesis at a level of significance of $0.05$."
      ]
    },
    {
      "cell_type": "code",
      "execution_count": 3,
      "metadata": {
        "colab": {
          "base_uri": "https://localhost:8080/",
          "height": 36
        },
        "id": "JZgCJE581s7v",
        "outputId": "2faf94ed-9528-43f4-98e5-6607df2e94f9"
      },
      "outputs": [],
      "source": [
        "#imports\n",
        "import pandas as pd\n",
        "import numpy as np\n",
        "import scipy.stats as stats\n",
        "from scipy.stats import chi2, gamma, norm\n",
        "\n",
        "from scipy.special import gammaln, digamma, polygamma\n",
        "from scipy.optimize import minimize\n",
        "import matplotlib.pyplot as plt\n",
        "\n"
      ]
    },
    {
      "cell_type": "code",
      "execution_count": 4,
      "metadata": {
        "colab": {
          "base_uri": "https://localhost:8080/",
          "height": 74
        },
        "id": "SkOHxxTt2fBy",
        "outputId": "cb482611-7b50-4ca4-85a3-722039eeb968"
      },
      "outputs": [],
      "source": [
        "#while using colab, uncomment the colab lines & upload the file to the database and comment the below(single) line\n",
        "\n",
        "\"\"\"from google.colab import files\n",
        "uploaded = files.upload()\n",
        "filename = list(uploaded.keys())[0]\n",
        "frame = pd.read_csv(filename)\"\"\"\n",
        "\n",
        "frame = pd.read_csv('Admission_Predict_Ver1.1.csv')\n"
      ]
    },
    {
      "cell_type": "code",
      "execution_count": 5,
      "metadata": {
        "id": "_FMvL-QUDXgn"
      },
      "outputs": [],
      "source": [
        "cgpa_data = frame['CGPA'].dropna() #removing rows with empty cgpa\n",
        "n = len(cgpa_data)\n",
        "sample_mean = cgpa_data.mean()\n",
        "sample_var = cgpa_data.var(ddof=1)  #ddof 1 because we're taking sample variance so denominator n-1\n"
      ]
    },
    {
      "cell_type": "markdown",
      "metadata": {
        "id": "upBx_r7ovwNJ"
      },
      "source": [
        "The Gamma Distribution, parameterized with shape parameter($\\alpha$) and scale parameter($\\frac{1}{\\beta}\\Leftrightarrow \\beta$ is rate parameter) is given by\n",
        "$$\n",
        "f(x; \\alpha, \\beta) = \\frac{\\beta^\\alpha}{ \\Gamma(\\alpha)} x^{\\alpha - 1} e^{-\\beta x} \\;\\;\\; \\text{for } x > 0, \\alpha, \\beta > 0  \n",
        "\\quad \\quad \\quad \\quad \\quad \\quad \\text{[As per \"problem-set6.pdf\"]}\n",
        "$$  \n",
        "\n",
        "where $\\Gamma(\\alpha)$ is the gamma function defined as\n",
        "$$\n",
        "\\Gamma(\\alpha) = \\int_0^\\infty t^{\\alpha - 1} e^{-t} dt\n",
        "$$\n",
        "\n",
        "The gamma function is a generalization of the factorial function $ \\ni \\Gamma(n+1) = n\\Gamma(n) =n!$  $\\forall n \\in \\mathbb{N}$, with mean of distribution $\\mu_{\\Gamma} = \\frac{\\alpha}{\\beta}$ & the variance $\\sigma^2_{\\Gamma} = \\frac{\\alpha}{\\beta^2}$.\n",
        "\n",
        "PS: Many places in texts, the distribution is parameterized with scale parameter(here $\\frac{1}{\\beta}$) as $\\beta$, and is now called rate parameter (just a change of notation)  \n",
        "$\\;\\;\\;$  \n",
        "Source: [Wikipedia](https://en.wikipedia.org/wiki/Gamma_distribution), [Scipy Documentation](https://docs.scipy.org/doc/scipy/reference/generated/scipy.stats.gamma.html)   & [A Random Webpage](https://www.statisticshowto.com/gamma-distribution/)  \n",
        "$\\;\\;\\;$  \n",
        "In the question, $\\alpha = a$ and $\\beta = b$."
      ]
    },
    {
      "cell_type": "code",
      "execution_count": 6,
      "metadata": {
        "colab": {
          "base_uri": "https://localhost:8080/",
          "height": 55
        },
        "id": "1P9Tcx4R54MU",
        "outputId": "b618e70a-ffff-43ee-85a9-b8d024165cf4"
      },
      "outputs": [
        {
          "name": "stdout",
          "output_type": "stream",
          "text": [
            "MOM estimates: a = 201.082, b = 23.446\n"
          ]
        },
        {
          "data": {
            "text/plain": [
              "'a_mle, loc, scale_para_mle = gamma.fit(cgpa_data, floc=0)\\nb_mle = 1/scale_para_mle\\n\\nprint(f\"MLE estimates: a = {a_mle:.3f}, b = {b_mle:.3f}\")'"
            ]
          },
          "execution_count": 6,
          "metadata": {},
          "output_type": "execute_result"
        }
      ],
      "source": [
        "#1st question\n",
        "\n",
        "#Method of moments for gamma distribution: x_bar = a/b, s^2 = a/b^2\n",
        "\n",
        "a_mom = sample_mean**2 / sample_var\n",
        "b_mom = sample_mean / sample_var\n",
        "\n",
        "print(f\"MOM estimates: a = {a_mom:.3f}, b = {b_mom:.3f}\")\n",
        "\n",
        "\"\"\"a_mle, loc, scale_para_mle = gamma.fit(cgpa_data, floc=0)\n",
        "b_mle = 1/scale_para_mle\n",
        "\n",
        "print(f\"MLE estimates: a = {a_mle:.3f}, b = {b_mle:.3f}\")\"\"\"\n"
      ]
    },
    {
      "cell_type": "code",
      "execution_count": 7,
      "metadata": {
        "colab": {
          "base_uri": "https://localhost:8080/",
          "height": 73
        },
        "id": "0PBZtjk9v2bM",
        "outputId": "958367e6-5d13-47dc-d16a-ae739a3e45a0"
      },
      "outputs": [
        {
          "data": {
            "text/plain": [
              "'\\ndef neg_log_likelihood(params):\\n    a, b = params\\n    if a <= 0 or b <= 0:\\n        return np.inf  # log-likelihood is undefined for non-positive a or b\\n    log_lik = n * (a * np.log(b) - gammaln(a)) + (a - 1) * np.sum(np.log(cgpa_data)) - b * np.sum(cgpa_data)\\n    return -log_lik\\n\\nresult = minimize(neg_log_likelihood, x0=[a_mom, b_mom],  bounds=[(1e-5, None), (1e-5, None)])\\na_mle, b_mle = result.x\\nprint(f\"MLE estimates using optimization: a = {a_mle:.3f}, b = {b_mle:.3f}\")\\n'"
            ]
          },
          "execution_count": 7,
          "metadata": {},
          "output_type": "execute_result"
        }
      ],
      "source": [
        "# Using the Optimization method to find MLE estimates for a & b\n",
        "\"\"\"\n",
        "def neg_log_likelihood(params):\n",
        "    a, b = params\n",
        "    if a <= 0 or b <= 0:\n",
        "        return np.inf  # log-likelihood is undefined for non-positive a or b\n",
        "    log_lik = n * (a * np.log(b) - gammaln(a)) + (a - 1) * np.sum(np.log(cgpa_data)) - b * np.sum(cgpa_data)\n",
        "    return -log_lik\n",
        "\n",
        "result = minimize(neg_log_likelihood, x0=[a_mom, b_mom],  bounds=[(1e-5, None), (1e-5, None)])\n",
        "a_mle, b_mle = result.x\n",
        "print(f\"MLE estimates using optimization: a = {a_mle:.3f}, b = {b_mle:.3f}\")\n",
        "\"\"\"\n"
      ]
    },
    {
      "cell_type": "markdown",
      "metadata": {
        "id": "qI1jL2thv6Ut"
      },
      "source": [
        "For Stirling's Approzimation: [A Source](https://tminka.github.io/papers/minka-gamma.pdf)"
      ]
    },
    {
      "cell_type": "code",
      "execution_count": 8,
      "metadata": {
        "colab": {
          "base_uri": "https://localhost:8080/",
          "height": 55
        },
        "id": "-ksImvRhv-44",
        "outputId": "a6f59bcf-33c9-409d-e838-4180829e6fd6"
      },
      "outputs": [
        {
          "data": {
            "text/plain": [
              "'\\nlog_mean = np.log(sample_mean)\\nmean_log = np.mean(np.log(cgpa_data))\\n\\na_mle = 0.5 /(log_mean-  mean_log )\\nb_mle = a_mle/sample_mean\\n\\nprint(f\"MLE estimates using Sterling\\'s approximation: a = {a_mle:.3f}, b = {b_mle:.3f}\")\\n'"
            ]
          },
          "execution_count": 8,
          "metadata": {},
          "output_type": "execute_result"
        }
      ],
      "source": [
        "# using sterling's approximation formula to calculate MLE for paramerters a & b\n",
        "\"\"\"\n",
        "log_mean = np.log(sample_mean)\n",
        "mean_log = np.mean(np.log(cgpa_data))\n",
        "\n",
        "a_mle = 0.5 /(log_mean-  mean_log )\n",
        "b_mle = a_mle/sample_mean\n",
        "\n",
        "print(f\"MLE estimates using Sterling's approximation: a = {a_mle:.3f}, b = {b_mle:.3f}\")\n",
        "\"\"\"\n"
      ]
    },
    {
      "cell_type": "code",
      "execution_count": 9,
      "metadata": {
        "colab": {
          "base_uri": "https://localhost:8080/"
        },
        "id": "plpPQ2mRGMa_",
        "outputId": "94349880-dc4f-4f95-f75d-c2f8b0614a40"
      },
      "outputs": [
        {
          "name": "stdout",
          "output_type": "stream",
          "text": [
            "MLE estimates using Iterative method: a = 200.169, b = 23.339\n"
          ]
        }
      ],
      "source": [
        "# using Iterative method to calculate MLE for parameters a & b\n",
        "\n",
        "mean_log = np.mean(np.log(cgpa_data))\n",
        "\n",
        "# Initial guess\n",
        "a = a_mom\n",
        "\n",
        "# Newton-Raphson iteration\n",
        "for _ in range(300):\n",
        "    numerator = np.log(a) - digamma(a) - np.log(sample_mean) + mean_log\n",
        "    denominator = 1 / a - polygamma(1, a)\n",
        "    a -= numerator / denominator\n",
        "    if abs(numerator) < 1e-8:\n",
        "        break\n",
        "\n",
        "a_mle = a\n",
        "b_mle = a / sample_mean\n",
        "\n",
        "print(f\"MLE estimates using Iterative method: a = {a_mle:.3f}, b = {b_mle:.3f}\")\n"
      ]
    },
    {
      "cell_type": "code",
      "execution_count": 10,
      "metadata": {
        "colab": {
          "base_uri": "https://localhost:8080/",
          "height": 564
        },
        "id": "J9mKStP63dHm",
        "outputId": "5105cf09-786a-4d9e-de7a-08fc057d00fe"
      },
      "outputs": [
        {
          "data": {
            "image/png": "[encoded data removed]",
            "text/plain": [
              "<Figure size 1000x600 with 1 Axes>"
            ]
          },
          "metadata": {},
          "output_type": "display_data"
        }
      ],
      "source": [
        "plt.figure(figsize=(10, 6))\n",
        "plt.hist(cgpa_data, bins=20, density=True, alpha=0.6, color='skyblue',edgecolor='black', label='CGPA Data')\n",
        "\n",
        "#Gamma distribution with MLE parameters\n",
        "x = np.linspace(cgpa_data.min(), cgpa_data.max(), 100)\n",
        "y = stats.gamma.pdf(x, a=a_mle, scale=1/b_mle)\n",
        "plt.plot(x, y, 'k:', label='Gamma (MLE)')\n",
        "plt.fill_between(x, y, where=(x >= cgpa_data.min()) & (x <= cgpa_data.max()), color='violet', alpha=0.3)\n",
        "\n",
        "plt.title('Histogram of CGPA with Gamma Distribution (MLE) Overlay')\n",
        "plt.xlabel('CGPA')\n",
        "plt.ylabel('Density')\n",
        "plt.legend()\n",
        "plt.grid(True, alpha=0.3)\n",
        "plt.show()\n"
      ]
    },
    {
      "cell_type": "code",
      "execution_count": 11,
      "metadata": {
        "colab": {
          "base_uri": "https://localhost:8080/"
        },
        "id": "M87i7NJG2iM0",
        "outputId": "40ca7e8c-0ef7-4f94-e5ee-7435aa080284"
      },
      "outputs": [
        {
          "name": "stdout",
          "output_type": "stream",
          "text": [
            "Sample Variance of CGPA: 0.366\n",
            "95% Confidence Interval for Variance of CGPA: (0.32, 0.42)\n"
          ]
        }
      ],
      "source": [
        "#2nd question\n",
        "\n",
        "alpha = 0.05 #95% interval\n",
        "\n",
        "chi2_lower = chi2.ppf(alpha / 2, df=n-1)\n",
        "chi2_upper = chi2.ppf(1 - alpha / 2, df=n-1)\n",
        "\n",
        "#confidence interval for variance\n",
        "lower_bound = (n - 1) * sample_var / chi2_upper\n",
        "upper_bound = (n - 1) * sample_var / chi2_lower\n",
        "\n",
        "print(f\"Sample Variance of CGPA: {sample_var:.3f}\")\n",
        "print(f\"{100*(1-alpha):.0f}% Confidence Interval for Variance of CGPA: ({lower_bound:.2f}, {upper_bound:.2f})\")\n"
      ]
    },
    {
      "cell_type": "code",
      "execution_count": 12,
      "metadata": {
        "colab": {
          "base_uri": "https://localhost:8080/"
        },
        "id": "iLykJyys9lIf",
        "outputId": "01889172-6d2c-44ee-da72-3304392e0b82"
      },
      "outputs": [
        {
          "name": "stdout",
          "output_type": "stream",
          "text": [
            "95% Confidence Interval for Difference of means is : (-210.41, -208.15)\n"
          ]
        }
      ],
      "source": [
        "#3rd question\n",
        "\n",
        "# Provided lists\n",
        "list1 = frame['TOEFL Score'].tolist()\n",
        "list2 = frame['GRE Score'].tolist()\n",
        "\n",
        "# Sample statistics\n",
        "mean1, sample_var1, n = np.mean(list1), np.var(list1, ddof=1), len(list1)\n",
        "mean2, sample_var2, m = np.mean(list2), np.var(list2, ddof=1), len(list2)\n",
        "\n",
        "# Critical value for 95% confidence\n",
        "alpha = 0.05\n",
        "\n",
        "sp = np.sqrt(((n-1)*sample_var1 + (m-1)*sample_var2) / (n+m-2))\n",
        "t_crit = stats.t.ppf(1-alpha/2, n+m-2)\n",
        "\n",
        "ci_lower = (mean1 - mean2) - t_crit * sp * np.sqrt(1/n + 1/m)\n",
        "ci_upper = (mean1 - mean2) + t_crit * sp * np.sqrt(1/n + 1/m)\n",
        "print(f\"{100*(1-alpha):.0f}% Confidence Interval for Difference of means is : ({ci_lower:.2f}, {ci_upper:.2f})\")\n"
      ]
    },
    {
      "cell_type": "markdown",
      "metadata": {
        "id": "DCnJ6aXn9KFU"
      },
      "source": [
        "**Proof @ Q4**:\n",
        "$$\n",
        "\\;\\;\\; \\\\\n",
        "x_i \\sim_{iid} Ber(p) \\implies \\mathbb{E}[x_i] = p \\space \\space \\& \\space \\mathbb{V}ar[x_i] = p(1-p)\n",
        "$$  \n",
        "Sample space : $\\{x_i | i \\in \\mathbb{N}^{\\le \\space n}\\}$  \n",
        "\n",
        "$$\\bar{x} = \\frac{\\sum_{i=1}^{n} x_i}{n} \\quad \\implies \\mathbb{E}[\\bar{x}]=p \\space \\space \\& \n",
        "\\space \\space\n",
        "\\mathbb{V}ar[\\bar{x}]=\\frac{p(1-p)}{n} \\\\ \\frac{\\bar{x}-p}{\\sqrt{\\frac{p(1-p)}{n}}} \\sim \\mathcal{N}(0, 1)\n",
        "$$  \n",
        "$\\;\\;\\;$\n",
        "for critical region(C): $\\{\\bar{x} - p > c\\}$  \n",
        "$\\;\\;\\;$\n",
        "$$\n",
        "p(\\text{type-1 error}) = \\alpha \\implies p(\\text{reject $H_0(\\in C)$ / $H_0$ is true})  \\\\\n",
        "p_{H_0}(\\bar{x}-p>c / p \\le \\frac{1}{2} ) = \\alpha\n",
        "$$\n",
        "$\\;\\;\\;$\n",
        "to compare for the max case, we want to compare with $p_0 = \\frac{1}{2}$ (simple one-sided test)  \n",
        "$$\n",
        "\\implies p_{H_0}(\\bar{x}-p_0>c) = \\alpha \\quad \\quad \\begin{bmatrix} \\text{take}\\space c = Z_{\\alpha}\\cdot\\sqrt{\\frac{p_0(1-p_0)}{n}}\\end{bmatrix} $$  \n",
        "\n",
        "by dividing with $\\sqrt{\\frac{p_0(1-p_0)}{n}}$ on both sides,\n",
        "\n",
        "$$\n",
        "\\bar{x} -p_0 > Z_{\\alpha}\\cdot\\sqrt{\\frac{p_0(1-p_0)}{n}} \\implies \\text{reject $H_0$} \\\\  \n",
        "\\bar{x} -p_0 \\le Z_{\\alpha}\\cdot\\sqrt{\\frac{p_0(1-p_0)}{n}} \\implies \\text{accept $H_0$}\n",
        "$$\n"
      ]
    },
    {
      "cell_type": "code",
      "execution_count": 13,
      "metadata": {
        "colab": {
          "base_uri": "https://localhost:8080/"
        },
        "id": "fOAW-mDVwXfq",
        "outputId": "de1badda-77d7-49ec-939d-e1dd8a3cb27f"
      },
      "outputs": [
        {
          "name": "stdout",
          "output_type": "stream",
          "text": [
            "We reject the null hypothesis\n"
          ]
        }
      ],
      "source": [
        "#4th question\n",
        "\n",
        "def Hypothesis_testing(data, alpha=0.05, p_success=0.5):\n",
        "    mean = data.mean()\n",
        "    z_alpha = norm.ppf(1 - alpha)\n",
        "    threshold = z_alpha * np.sqrt((p_success * (1 - p_success)) / len(data)) + p_success\n",
        "    return mean > threshold\n",
        "\n",
        "\n",
        "data_binary = frame['Research'].dropna()\n",
        "\n",
        "data_binary = data_binary.sample(frac=1).reset_index(drop=True)\n",
        "\n",
        "if Hypothesis_testing(data_binary):\n",
        "    print(\"We reject the null hypothesis\")\n",
        "else:\n",
        "    print(\"We accept the null hypothesis\")\n"
      ]
    },
    {
      "cell_type": "markdown",
      "metadata": {
        "id": "joVm5LdrFI-7"
      },
      "source": [
        "A combined effort by\n",
        " - AI23BTECH11009 - [Pranav JVS](mailto:ai23btech11009@iith.ac.in)\n",
        " - AI23BTECH11024 - [Samagalla Sukesh Kumar](mailto:ai23btech11024@iith.ac.in)\n",
        " - AI23BTECH11017 - [Sai Kaushik P](mailto:AI23BTECH11017@iith.ac.in>)"
      ]
    }
  ],
  "metadata": {
    "colab": {
      "provenance": []
    },
    "kernelspec": {
      "display_name": "Python 3",
      "name": "python3"
    },
    "language_info": {
      "codemirror_mode": {
        "name": "ipython",
        "version": 3
      },
      "file_extension": ".py",
      "mimetype": "text/x-python",
      "name": "python",
      "nbconvert_exporter": "python",
      "pygments_lexer": "ipython3",
      "version": "3.13.2"
    }
  },
  "nbformat": 4,
  "nbformat_minor": 0
}
